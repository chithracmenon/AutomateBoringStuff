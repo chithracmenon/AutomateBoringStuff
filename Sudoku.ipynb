{
 "cells": [
  {
   "cell_type": "code",
   "execution_count": 10,
   "metadata": {
    "scrolled": true
   },
   "outputs": [
    {
     "name": "stdout",
     "output_type": "stream",
     "text": [
      "[[7, 8, 5, 4, 3, 9, 1, 2, 6],\n",
      " [6, 1, 2, 8, 7, 5, 3, 4, 9],\n",
      " [4, 9, 3, 6, 2, 1, 5, 7, 8],\n",
      " [8, 5, 7, 9, 4, 3, 2, 6, 1],\n",
      " [2, 6, 1, 7, 5, 8, 9, 3, 4],\n",
      " [9, 3, 4, 1, 6, 2, 7, 8, 5],\n",
      " [5, 7, 8, 3, 9, 4, 6, 1, 2],\n",
      " [1, 2, 6, 5, 8, 7, 4, 9, 3],\n",
      " [3, 4, 9, 2, 1, 6, 8, 5, 7]]\n"
     ]
    }
   ],
   "source": [
    "import pprint\n",
    "\n",
    "\n",
    "board = [\n",
    "    [7,8,0,4,0,0,1,2,0],\n",
    "    [6,0,0,0,7,5,0,0,9],\n",
    "    [0,0,0,6,0,1,0,7,8],\n",
    "    [0,0,7,0,4,0,2,6,0],\n",
    "    [0,0,1,0,5,0,9,3,0],\n",
    "    [9,0,4,0,6,0,0,0,5],\n",
    "    [0,7,0,3,0,0,0,1,2],\n",
    "    [1,2,0,0,0,7,4,0,0],\n",
    "    [0,4,9,2,0,6,0,0,7]\n",
    "]\n",
    "\n",
    "def verify(board, i , j, k):\n",
    "    if k in board[i]:\n",
    "        return False\n",
    "    for c in range(len(board)):\n",
    "        if board[c][j] == k:\n",
    "            return False\n",
    "    box_hp = i // 3\n",
    "    box_wp = j // 3\n",
    "    \n",
    "    for a in range(0,3):\n",
    "        for b in range(0,3):\n",
    "            if board[box_hp * 3 + a][box_wp * 3 + b] == k:\n",
    "                return False\n",
    "    return True\n",
    "\n",
    "def find_null(board):\n",
    "    for i in range(len(board)):\n",
    "        for j in range(len(board)):\n",
    "            if board[i][j] == 0:\n",
    "                return (i,j)\n",
    "    \n",
    "def solve(board):\n",
    "    find = find_null(board)\n",
    "    \n",
    "    if find is None:\n",
    "        return True\n",
    "    else:\n",
    "        i, j = find\n",
    "        for k in range(1,10):\n",
    "            if verify(board, i, j, k):\n",
    "                board[i][j] = k\n",
    "                if solve(board):\n",
    "                    return True\n",
    "                \n",
    "                board[i][j] = 0\n",
    "    \n",
    "   \n",
    "    return False\n",
    "    \n",
    "    \n",
    "solve(board)\n",
    "pprint.pprint(board)"
   ]
  },
  {
   "cell_type": "code",
   "execution_count": null,
   "metadata": {},
   "outputs": [],
   "source": []
  }
 ],
 "metadata": {
  "kernelspec": {
   "display_name": "Python 3",
   "language": "python",
   "name": "python3"
  },
  "language_info": {
   "codemirror_mode": {
    "name": "ipython",
    "version": 3
   },
   "file_extension": ".py",
   "mimetype": "text/x-python",
   "name": "python",
   "nbconvert_exporter": "python",
   "pygments_lexer": "ipython3",
   "version": "3.7.6"
  }
 },
 "nbformat": 4,
 "nbformat_minor": 4
}
